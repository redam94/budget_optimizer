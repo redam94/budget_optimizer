{
 "cells": [
  {
   "cell_type": "markdown",
   "metadata": {},
   "source": [
    "---\n",
    "author: \n",
    "  - name: Matthew Reda\n",
    "    email: redam94@gmail.com\n",
    "copyright: \n",
    "  holder: Matthew Reda\n",
    "  year: 2024\n",
    "citation: true\n",
    "---"
   ]
  },
  {
   "cell_type": "markdown",
   "metadata": {},
   "source": [
    "# Optimizer\n",
    "\n",
    "> Optimizers for models"
   ]
  },
  {
   "cell_type": "code",
   "execution_count": null,
   "metadata": {},
   "outputs": [],
   "source": [
    "#| default_exp optimizer"
   ]
  },
  {
   "cell_type": "code",
   "execution_count": null,
   "metadata": {},
   "outputs": [],
   "source": [
    "#| hide\n",
    "%load_ext autoreload\n",
    "%autoreload 2"
   ]
  },
  {
   "cell_type": "code",
   "execution_count": null,
   "metadata": {},
   "outputs": [],
   "source": [
    "#| hide\n",
    "from nbdev.showdoc import *"
   ]
  },
  {
   "cell_type": "code",
   "execution_count": null,
   "metadata": {},
   "outputs": [],
   "source": [
    "#| export\n",
    "import pyswarms as ps\n",
    "import numpy as np\n",
    "import pandas as pd\n",
    "\n",
    "from budget_optimizer.utils.model_classes import BaseBudgetModel\n",
    "from budget_optimizer.utils.model_helpers import (\n",
    "  load_module,\n",
    "  load_yaml,\n",
    "  BudgetType, \n",
    "  AbstractModel\n",
    ")\n",
    "\n",
    "from pathlib import Path"
   ]
  },
  {
   "cell_type": "code",
   "execution_count": null,
   "metadata": {},
   "outputs": [],
   "source": [
    "#| export\n",
    "class Optimizer:\n",
    "    \"\"\"Optimizer wrapper for the pyswarms package\"\"\"\n",
    "    _CONFIG_YAML = 'optimizer_config.yaml'\n",
    "    _MODULE_FILE = \"optimizer_config.py\"\n",
    "    \n",
    "    def __init__(\n",
    "        self, \n",
    "        model: BaseBudgetModel, # The model to optimize\n",
    "        config_path: str|Path # Path to the configuration files\n",
    "        ):\n",
    "        \n",
    "        self.model: AbstractModel = model\n",
    "        self._config_path: Path = Path(config_path) if isinstance(config_path, str) else config_path\n",
    "        self._optimal_budget: BudgetType = None\n",
    "        self._optimal_prediction: xr.DataArray = None\n",
    "        self._optimal_contribution: xr.Dataset = None\n",
    "        self._config = self._load_config()\n",
    "        self._loss_fn = self._load_loss_fn()\n",
    "        \n",
    "    def _load_config(self):\n",
    "        config = load_yaml(self._config_path / self._CONFIG_YAML)\n",
    "        return config\n",
    "    \n",
    "    def reload_config(self):\n",
    "        self._config = self._load_config()\n",
    "        return self\n",
    "    \n",
    "    def _load_loss_fn(self):\n",
    "        \"\"\"Load the loss function from the config file\"\"\"\n",
    "        module = load_module(self._MODULE_FILE.replace(\".py\", \"\"), self._config_path / self._MODULE_FILE)\n",
    "        return module.loss_fn\n",
    "    \n",
    "    def _optimizer_array_to_budget(self, array: np.ndarray) -> BudgetType:\n",
    "        \"\"\"Convert the optimizer array to a budget\"\"\"\n",
    "        initial_budget: BudgetType = self._config['initial_budget']\n",
    "        budget: BudgetType = {}\n",
    "        \n",
    "        for i, key in enumerate(initial_budget.keys()):\n",
    "            budget[key] = array[i]\n",
    "        return budget\n",
    "    \n",
    "    \n",
    "    def optimize(self, n_particles: int = 10, n_iterations: int = 100):\n",
    "        \"\"\"Optimize the model\"\"\"\n",
    "        optimizer = ps.single.GlobalBestPSO(n_particles=n_particles, dimensions=self._config['dimensions'])\n",
    "        optimizer.optimize(self._loss_fn, iters=n_iterations)\n",
    "        self._optimal_budget = optimizer.pos_best\n",
    "        self._optimal_prediction = self.model.predict() # The optimizer minimizes the cost, so we need to negate it\n",
    "        self._optimal_contribution = self.model.get_contribution(self._optimal_budget)\n",
    "        return self"
   ]
  },
  {
   "cell_type": "code",
   "execution_count": null,
   "metadata": {},
   "outputs": [],
   "source": [
    "#| hide\n",
    "import nbdev; nbdev.nbdev_export()"
   ]
  },
  {
   "cell_type": "code",
   "execution_count": null,
   "metadata": {},
   "outputs": [],
   "source": []
  }
 ],
 "metadata": {
  "kernelspec": {
   "display_name": "python3",
   "language": "python",
   "name": "python3"
  }
 },
 "nbformat": 4,
 "nbformat_minor": 4
}
