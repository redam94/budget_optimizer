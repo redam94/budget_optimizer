{
 "cells": [
  {
   "cell_type": "markdown",
   "metadata": {},
   "source": [
    "---\n",
    "author: \n",
    "  - name: Matthew Reda\n",
    "    email: redam94@gmail.com\n",
    "copyright: \n",
    "  holder: Matthew Reda\n",
    "  year: 2024\n",
    "citation: true\n",
    "---"
   ]
  },
  {
   "cell_type": "markdown",
   "metadata": {},
   "source": [
    "# Optimizer\n",
    "\n",
    "> Optimizers for models"
   ]
  },
  {
   "cell_type": "code",
   "execution_count": null,
   "metadata": {},
   "outputs": [],
   "source": [
    "#| default_exp optimizer"
   ]
  },
  {
   "cell_type": "code",
   "execution_count": null,
   "metadata": {},
   "outputs": [],
   "source": [
    "#| hide\n",
    "%load_ext autoreload\n",
    "%autoreload 2"
   ]
  },
  {
   "cell_type": "code",
   "execution_count": null,
   "metadata": {},
   "outputs": [],
   "source": [
    "#| hide\n",
    "from nbdev.showdoc import *\n",
    "import matplotlib.pyplot as plt"
   ]
  },
  {
   "cell_type": "code",
   "execution_count": null,
   "metadata": {},
   "outputs": [
    {
     "name": "stderr",
     "output_type": "stream",
     "text": [
      "/Users/redam94/Coding/Projects/budget_optimizer/.venv/lib/python3.12/site-packages/tqdm/auto.py:21: TqdmWarning: IProgress not found. Please update jupyter and ipywidgets. See https://ipywidgets.readthedocs.io/en/stable/user_install.html\n",
      "  from .autonotebook import tqdm as notebook_tqdm\n"
     ]
    }
   ],
   "source": [
    "#| export\n",
    "import numpy as np\n",
    "import xarray as xr\n",
    "import pandas as pd\n",
    "import scipy.optimize as opt\n",
    "import optuna\n",
    "\n",
    "from budget_optimizer.utils.model_classes import BaseBudgetModel\n",
    "from budget_optimizer.utils.model_helpers import (\n",
    "  load_module,\n",
    "  load_yaml,\n",
    "  BudgetType, \n",
    "  AbstractModel\n",
    ")\n",
    "\n",
    "from pathlib import Path\n",
    "from abc import ABC, abstractmethod"
   ]
  },
  {
   "cell_type": "code",
   "execution_count": null,
   "metadata": {},
   "outputs": [],
   "source": [
    "#| export\n",
    "class BaseOptimizer(ABC):\n",
    "    \"\"\"Optimizer wrapper for the pyswarms package\"\"\"\n",
    "    _CONFIG_YAML = 'optimizer_config.yaml'\n",
    "    _MODULE_FILE = \"optimizer_config.py\"\n",
    "    \n",
    "    def __init__(\n",
    "        self, \n",
    "        model: BaseBudgetModel, # The model to optimize\n",
    "        config_path: str|Path # Path to the configuration files\n",
    "        ):\n",
    "        \n",
    "        self.model: BaseBudgetModel = model\n",
    "        self._config_path: Path = Path(config_path) if isinstance(config_path, str) else config_path\n",
    "        self.optimal_budget: BudgetType = None\n",
    "        self.optimal_prediction: xr.DataArray = None\n",
    "        self.optimal_contribution: xr.Dataset = None\n",
    "        self.sol = None\n",
    "        self._config = self._load_config()\n",
    "        self._loss_fn = self._load_loss_fn()\n",
    "        self._optimizer_array_to_budget = self._load_optimizer_array_to_budget()\n",
    "        \n",
    "    def _load_config(self):\n",
    "        config = load_yaml(self._config_path / self._CONFIG_YAML)\n",
    "        return config\n",
    "    \n",
    "    def reload_config(self):\n",
    "        self._config = self._load_config()\n",
    "        return self\n",
    "    \n",
    "    def _load_loss_fn(self):\n",
    "        \"\"\"Load the loss function from the config file\"\"\"\n",
    "        module = load_module(self._MODULE_FILE.replace(\".py\", \"\"), self._config_path / self._MODULE_FILE)\n",
    "        return module.loss_fn\n",
    "    \n",
    "    def _load_optimizer_array_to_budget(self):\n",
    "        \"\"\"Convert the optimizer array to a budget\"\"\"\n",
    "        module = load_module(self._MODULE_FILE.replace(\".py\", \"\"), self._config_path / self._MODULE_FILE)\n",
    "        return module.optimizer_array_to_budget\n",
    "    \n",
    "    def _optimizer_fn(self, x: np.ndarray):\n",
    "        \"\"\"Optimizer step\"\"\"\n",
    "        budget = self._optimizer_array_to_budget(x)\n",
    "        prediction = self.model.predict(budget)\n",
    "        loss = self._loss_fn(prediction, **self._config['loss_fn_kwargs'])\n",
    "        return loss\n",
    "    \n",
    "    @abstractmethod\n",
    "    def optimize(\n",
    "        self, \n",
    "        bounds: list[tuple[float, float]], # Bounds for the optimizer\n",
    "        constraints: None|opt.LinearConstraint|tuple[float, float] = None, # Constraints for the optimizer\n",
    "        **kwargs: dict # Additional arguments for the optimizer\n",
    "        ):\n",
    "        \"\"\"Optimize the model\"\"\"\n",
    "        raise NotImplementedError(\"This method should be implemented in the child class\")"
   ]
  },
  {
   "cell_type": "code",
   "execution_count": null,
   "metadata": {},
   "outputs": [],
   "source": [
    "#| export\n",
    "class ScipyBudgetOptimizer(BaseOptimizer):\n",
    "    \"\"\"Optimizer wrapper for the pyswarms package\"\"\"\n",
    "    \n",
    "    def optimize(\n",
    "        self, \n",
    "        bounds: list[tuple[float, float]], # Bounds for the optimizer\n",
    "        constraints: None|opt.LinearConstraint, # Constraints for the optimizer\n",
    "        init_pos: np.ndarray, # Initial position of the optimizer\n",
    "        ):\n",
    "        \"\"\"Optimize the model\"\"\"\n",
    "        import warnings\n",
    "        warnings.filterwarnings(\"ignore\")\n",
    "        self.sol = opt.minimize(\n",
    "            self._optimizer_fn, init_pos,\n",
    "            method='trust-constr', \n",
    "            bounds=bounds, \n",
    "            constraints=constraints\n",
    "            )\n",
    "        if not self.sol.success:\n",
    "            raise Exception(f\"Optimization failed: {self.sol.message}\")\n",
    "        \n",
    "        self.optimal_budget = self._optimizer_array_to_budget(self.sol.x)\n",
    "        self.optimal_prediction = self.model.predict(self.optimal_budget) # The optimizer minimizes the cost, so we need to negate it\n",
    "        self.optimal_contribution = self.model.contributions(self.optimal_budget)\n",
    "        return self"
   ]
  },
  {
   "cell_type": "code",
   "execution_count": null,
   "metadata": {},
   "outputs": [],
   "source": [
    "class BudgetModel(BaseBudgetModel):\n",
    "    \"\"\"\n",
    "    Budget model class\n",
    "    \"\"\"\n",
    "    ..."
   ]
  },
  {
   "cell_type": "code",
   "execution_count": null,
   "metadata": {},
   "outputs": [],
   "source": [
    "fast_model = BudgetModel(\"Revenue Model\", \"Revenue\", \"../example_files/fast_model\")"
   ]
  },
  {
   "cell_type": "code",
   "execution_count": null,
   "metadata": {},
   "outputs": [],
   "source": [
    "init_budget = np.array([2, 3])\n",
    "bounds = [(3, 5), (3, 5)]\n",
    "constraints = opt.LinearConstraint([[1, 1]], [8], [8])\n",
    "o = ScipyBudgetOptimizer(fast_model, \"../example_files\")"
   ]
  },
  {
   "cell_type": "code",
   "execution_count": null,
   "metadata": {},
   "outputs": [
    {
     "data": {
      "text/markdown": [
       "---\n",
       "\n",
       "[source](https://github.com/redam94/budget_optimizer/blob/main/budget_optimizer/optimizer.py#L87){target=\"_blank\" style=\"float:right; font-size:smaller\"}\n",
       "\n",
       "### ScipyBudgetOptimizer.optimize\n",
       "\n",
       ">      ScipyBudgetOptimizer.optimize (bounds:list[tuple[float,float]],\n",
       ">                                     constraints:None|scipy.optimize._constrain\n",
       ">                                     ts.LinearConstraint,\n",
       ">                                     init_pos:numpy.ndarray)\n",
       "\n",
       "*Optimize the model*\n",
       "\n",
       "|    | **Type** | **Details** |\n",
       "| -- | -------- | ----------- |\n",
       "| bounds | list | Bounds for the optimizer |\n",
       "| constraints | None \\| scipy.optimize._constraints.LinearConstraint | Constraints for the optimizer |\n",
       "| init_pos | ndarray | Initial position of the optimizer |"
      ],
      "text/plain": [
       "---\n",
       "\n",
       "[source](https://github.com/redam94/budget_optimizer/blob/main/budget_optimizer/optimizer.py#L87){target=\"_blank\" style=\"float:right; font-size:smaller\"}\n",
       "\n",
       "### ScipyBudgetOptimizer.optimize\n",
       "\n",
       ">      ScipyBudgetOptimizer.optimize (bounds:list[tuple[float,float]],\n",
       ">                                     constraints:None|scipy.optimize._constrain\n",
       ">                                     ts.LinearConstraint,\n",
       ">                                     init_pos:numpy.ndarray)\n",
       "\n",
       "*Optimize the model*\n",
       "\n",
       "|    | **Type** | **Details** |\n",
       "| -- | -------- | ----------- |\n",
       "| bounds | list | Bounds for the optimizer |\n",
       "| constraints | None \\| scipy.optimize._constraints.LinearConstraint | Constraints for the optimizer |\n",
       "| init_pos | ndarray | Initial position of the optimizer |"
      ]
     },
     "execution_count": null,
     "metadata": {},
     "output_type": "execute_result"
    }
   ],
   "source": [
    "show_doc(ScipyBudgetOptimizer.optimize)"
   ]
  },
  {
   "cell_type": "code",
   "execution_count": null,
   "metadata": {},
   "outputs": [],
   "source": [
    "o_fitted = o.optimize(bounds, constraints, init_pos=init_budget)"
   ]
  },
  {
   "cell_type": "code",
   "execution_count": null,
   "metadata": {},
   "outputs": [
    {
     "data": {
      "text/plain": [
       "           message: `gtol` termination condition is satisfied.\n",
       "           success: True\n",
       "            status: 1\n",
       "               fun: -601.6849021505009\n",
       "                 x: [ 3.168e+00  4.832e+00]\n",
       "               nit: 15\n",
       "              nfev: 30\n",
       "              njev: 10\n",
       "              nhev: 0\n",
       "          cg_niter: 9\n",
       "      cg_stop_cond: 1\n",
       "              grad: [-1.485e+01 -1.485e+01]\n",
       "   lagrangian_grad: [-9.561e-09  9.561e-09]\n",
       "            constr: [array([ 8.000e+00]), array([ 3.168e+00,  4.832e+00])]\n",
       "               jac: [array([[ 1.000e+00,  1.000e+00]]), array([[ 1.000e+00,  0.000e+00],\n",
       "                           [ 0.000e+00,  1.000e+00]])]\n",
       "       constr_nfev: [0, 0]\n",
       "       constr_njev: [0, 0]\n",
       "       constr_nhev: [0, 0]\n",
       "                 v: [array([ 1.485e+01]), array([-1.731e-04,  1.731e-04])]\n",
       "            method: tr_interior_point\n",
       "        optimality: 9.56122952780968e-09\n",
       "  constr_violation: 0.0\n",
       "    execution_time: 0.04166698455810547\n",
       "         tr_radius: 29797.67905015749\n",
       "    constr_penalty: 1.0\n",
       " barrier_parameter: 3.200000000000001e-05\n",
       " barrier_tolerance: 3.200000000000001e-05\n",
       "             niter: 15"
      ]
     },
     "execution_count": null,
     "metadata": {},
     "output_type": "execute_result"
    }
   ],
   "source": [
    "#| echo: false\n",
    "o_fitted.sol"
   ]
  },
  {
   "cell_type": "code",
   "execution_count": null,
   "metadata": {},
   "outputs": [
    {
     "name": "stdout",
     "output_type": "stream",
     "text": [
      "Optimal budget:\n",
      "{'a': 3.17, 'b': 4.83}\n"
     ]
    }
   ],
   "source": [
    "#| echo: false\n",
    "print(\"Optimal budget:\")\n",
    "print({key: np.round(value, 2) for key, value in o_fitted.optimal_budget.items()})"
   ]
  },
  {
   "cell_type": "code",
   "execution_count": null,
   "metadata": {},
   "outputs": [],
   "source": [
    "#| echo: false\n",
    "#| export\n",
    "#| echo: false\n",
    "#| echo: false\n",
    "from typing import Literal"
   ]
  },
  {
   "cell_type": "code",
   "execution_count": null,
   "metadata": {},
   "outputs": [],
   "source": [
    "#| export\n",
    "class OptunaBudgetOptimizer(BaseOptimizer):\n",
    "    def __init__(\n",
    "        self, \n",
    "        model: BaseBudgetModel, # The model to optimize\n",
    "        config_path: str|Path, # Path to the configuration files\n",
    "        objective_name: str = \"loss\", # Name of the objective\n",
    "        direction: Literal[\"maximize\", \"minimize\"] = \"maximize\", # Direction of the optimization\n",
    "        sampler: optuna.samplers.BaseSampler = optuna.samplers.TPESampler, # Sampler for the optimization\n",
    "        pruner: optuna.pruners.BasePruner|None = None, # Pruner for the optimization\n",
    "        tol: float = 1e-3, # Tolerance for the constraints\n",
    "        percent_out_tolerance: float = 0.1, # Percentage of the budget trials that can be outside the constraints\n",
    "        sampler_kwargs: dict|None = None, # Additional arguments for the sampler\n",
    "        pruner_kwargs: dict|None = None, # Additional arguments for the pruner\n",
    "        ):\n",
    "        super().__init__(model, config_path)\n",
    "        self.objective_name = objective_name\n",
    "        self.study = None\n",
    "        self._direction = direction\n",
    "        self.__tol = tol\n",
    "        self.__percent_out_tolerance = percent_out_tolerance\n",
    "        self.__sampler = sampler(constraints_func=self._constraints, **sampler_kwargs)\n",
    "        self.__pruner = pruner(**pruner_kwargs) if not pruner is None else None\n",
    "        \n",
    "        \n",
    "    def _constraints(self, trial):\n",
    "        return trial.user_attrs[\"constraint\"]\n",
    "    \n",
    "    def _optimizer_fn(self, bounds, constraints):\n",
    "        def _opt_fn(trial):\n",
    "            x = np.array([trial.suggest_float(name, *bound, step=.0001) for name, bound in bounds.items()])\n",
    "            budget = self._optimizer_array_to_budget(x)\n",
    "            total_budget = sum(v for v in budget.values())\n",
    "            if constraints is None:\n",
    "                trial.set_user_attr(\"constraint\", (-1,))\n",
    "            else:\n",
    "                less_than_upper = ((total_budget - constraints[1])/constraints[1]) <= self.__tol\n",
    "                greater_than_lower = ((total_budget - constraints[0])/constraints[0]) >= -self.__tol\n",
    "                \n",
    "                trial.set_user_attr(\"constraint\", (-1,) if (less_than_upper and greater_than_lower) else (1,))\n",
    "               \n",
    "                trial.set_user_attr(\"test\", (f\"{total_budget:.2f}\", constraints))\n",
    "                trial.set_user_attr(\n",
    "                    \"tol\", \n",
    "                    (\n",
    "                        f\"{((total_budget - constraints[1])/constraints[1]):.2%}\",\n",
    "                        f\"{((total_budget - constraints[0])/constraints[0]):.2%}\"\n",
    "                    ))\n",
    "                trial.set_user_attr(\"less or greater\", (int(less_than_upper), int(greater_than_lower)))\n",
    "                if (not (less_than_upper and greater_than_lower)) and np.random.uniform(0, 1) > self.__percent_out_tolerance:\n",
    "                    raise optuna.exceptions.TrialPruned()\n",
    "            trial.set_user_attr(\"budget\", budget)\n",
    "            prediction = self.model.predict(budget)\n",
    "            \n",
    "            \n",
    "            loss = -self._loss_fn(prediction, **self._config['loss_fn_kwargs'])\n",
    "            return loss\n",
    "        \n",
    "        return _opt_fn\n",
    "\n",
    "    def optimize(\n",
    "        self, \n",
    "        bounds: dict[str, tuple[float, float]], # Bounds for the optimizer\n",
    "        constraints: None|tuple = None, # Constraints for the optimizer\n",
    "        timeout: int = 60,\n",
    "        n_trials: int = 100,\n",
    "        storage: str|None = \"sqlite:///db.sqlite3\",\n",
    "        study_name: str = \"optimizer\",\n",
    "        n_jobs: int = 1\n",
    "    ):\n",
    "        \"\"\"Optimize the model\"\"\"\n",
    "            \n",
    "        self.study = optuna.create_study(\n",
    "            storage=storage,  # Specify the storage URL here.\n",
    "            study_name=study_name,\n",
    "            direction=self._direction,\n",
    "            sampler=self.__sampler,\n",
    "            pruner=self.__pruner)\n",
    "        self.study.set_metric_names([self.objective_name])\n",
    "        self.study.optimize(\n",
    "            self._optimizer_fn(bounds, constraints), \n",
    "            n_trials=n_trials, \n",
    "            timeout=timeout,\n",
    "            n_jobs=n_jobs)\n",
    "        \n",
    "        self.sol = self.study.best_trial\n",
    "        self.optimal_budget = self._optimizer_array_to_budget(list(self.sol.params.values()))\n",
    "        self.optimal_prediction = self.model.predict(self.optimal_budget)\n",
    "        "
   ]
  },
  {
   "cell_type": "code",
   "execution_count": null,
   "metadata": {},
   "outputs": [],
   "source": [
    "#| echo: false\n",
    "from datetime import datetime"
   ]
  },
  {
   "cell_type": "code",
   "execution_count": null,
   "metadata": {},
   "outputs": [],
   "source": [
    "optuna.logging.set_verbosity(optuna.logging.WARNING)\n",
    "slow_model = BudgetModel(\"Revenue Model\", \"Revenue\", \"../example_files/slow_model\")\n",
    "opt_optimizer = OptunaBudgetOptimizer(\n",
    "  slow_model, \"../example_files\", \n",
    "  direction=\"maximize\", tol=1e-3, percent_out_tolerance=0.1,\n",
    "  sampler_kwargs={\"multivariate\": True, \"group\": True})\n",
    "bounds = {\"a\": (3, 5), \"b\": (3, 5)}\n",
    "constraints = (8, 8)\n",
    "now = datetime.now()\n",
    "opt_optimizer.optimize(\n",
    "  bounds, constraints, \n",
    "  n_trials=200_000, timeout=120, \n",
    "  storage=\"sqlite:///db.sqlite3\", \n",
    "  study_name=f\"optimizer - {now}\", \n",
    "  n_jobs=4)"
   ]
  },
  {
   "cell_type": "code",
   "execution_count": null,
   "metadata": {},
   "outputs": [
    {
     "data": {
      "text/plain": [
       "{'a': 3.1675802082673, 'b': 4.8324197917327005}"
      ]
     },
     "execution_count": null,
     "metadata": {},
     "output_type": "execute_result"
    }
   ],
   "source": [
    "o_fitted.optimal_budget"
   ]
  },
  {
   "cell_type": "code",
   "execution_count": null,
   "metadata": {},
   "outputs": [
    {
     "name": "stdout",
     "output_type": "stream",
     "text": [
      "Scipy Optimal Total Budget 8.0\n"
     ]
    }
   ],
   "source": [
    "#|echo: false\n",
    "print(\"Scipy Optimal Total Budget\", float(sum(o_fitted.optimal_budget.values())))"
   ]
  },
  {
   "cell_type": "code",
   "execution_count": null,
   "metadata": {},
   "outputs": [
    {
     "data": {
      "text/plain": [
       "{'a': 3.2078, 'b': 4.7994}"
      ]
     },
     "execution_count": null,
     "metadata": {},
     "output_type": "execute_result"
    }
   ],
   "source": [
    "opt_optimizer.optimal_budget"
   ]
  },
  {
   "cell_type": "code",
   "execution_count": null,
   "metadata": {},
   "outputs": [
    {
     "name": "stdout",
     "output_type": "stream",
     "text": [
      "Optuna Optimal Total Budget 8.007200000000001\n"
     ]
    }
   ],
   "source": [
    "#|echo: false\n",
    "print(\"Optuna Optimal Total Budget\", float(sum(opt_optimizer.optimal_budget.values())))"
   ]
  },
  {
   "cell_type": "code",
   "execution_count": null,
   "metadata": {},
   "outputs": [
    {
     "data": {
      "image/png": "[encoded data removed]",
      "text/plain": [
       "<Figure size 640x480 with 1 Axes>"
      ]
     },
     "metadata": {},
     "output_type": "display_data"
    }
   ],
   "source": [
    "#| echo: false\n",
    "#m.predict({'a': 2, 'b': 3}).plot(label=\"Initial\")\n",
    "#m.predict({'a': 1.8, 'b': 3.2}).plot(label=\"Max B\")\n",
    "#m.predict({'a': 2.2, 'b': 2.8}).plot(label=\"Max A\")\n",
    "o_fitted.optimal_prediction.plot(label=\"Scipy\")\n",
    "opt_optimizer.optimal_prediction.plot(label=\"Optuna\")\n",
    "plt.title(\"Budget Comparison\")\n",
    "plt.legend();"
   ]
  },
  {
   "cell_type": "code",
   "execution_count": null,
   "metadata": {},
   "outputs": [],
   "source": [
    "#| hide\n",
    "import nbdev; nbdev.nbdev_export()"
   ]
  },
  {
   "cell_type": "code",
   "execution_count": null,
   "metadata": {},
   "outputs": [],
   "source": []
  }
 ],
 "metadata": {
  "kernelspec": {
   "display_name": "python3",
   "language": "python",
   "name": "python3"
  }
 },
 "nbformat": 4,
 "nbformat_minor": 4
}
