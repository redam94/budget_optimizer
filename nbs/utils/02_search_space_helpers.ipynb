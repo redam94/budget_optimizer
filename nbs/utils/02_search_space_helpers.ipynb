{
 "cells": [
  {
   "cell_type": "markdown",
   "metadata": {},
   "source": [
    "# Constrained Search Space\n",
    "\n",
    "> Generate constrained search space. Alert if constraints are not satisfiable."
   ]
  },
  {
   "cell_type": "code",
   "execution_count": null,
   "metadata": {},
   "outputs": [],
   "source": [
    "#| default_exp utils.search_space_helper"
   ]
  },
  {
   "cell_type": "code",
   "execution_count": null,
   "metadata": {},
   "outputs": [],
   "source": [
    "#| hide\n",
    "from nbdev.showdoc import *"
   ]
  },
  {
   "cell_type": "code",
   "execution_count": null,
   "metadata": {},
   "outputs": [],
   "source": [
    "#| export\n",
    "import numpy as np\n",
    "from typing import Generator, List, Tuple, Protocol\n",
    "from dataclasses import dataclass\n",
    "from collections import OrderedDict"
   ]
  },
  {
   "cell_type": "code",
   "execution_count": null,
   "metadata": {},
   "outputs": [],
   "source": [
    "#| export\n",
    "class Trial(Protocol):\n",
    "    \"Protocol for a trial object\"\n",
    "    @staticmethod\n",
    "    def suggest_float(name: str, *args, **kwargs) -> float:\n",
    "        ..."
   ]
  },
  {
   "cell_type": "code",
   "execution_count": null,
   "metadata": {},
   "outputs": [],
   "source": [
    "#| export\n",
    "@dataclass\n",
    "class ConstrainedSearchSpace:\n",
    "    \"\"\"\n",
    "    A class that generates a search space with constraints\n",
    "    \"\"\"\n",
    "    bounds: dict[str, tuple[float, float]] # bounds of each channel\n",
    "    constraint: tuple[float, float] # constraint of the sum of all channels\n",
    "\n",
    "    def __post_init__(self):\n",
    "        self.bounds = OrderedDict(sorted(self.bounds.items(), key=lambda x: x[1]))\n",
    "    \n",
    "    def __call__(\n",
    "        self, \n",
    "        trial: Trial # trial object\n",
    "        ) -> dict[str, float]: # selected budget\n",
    "        \"Sample from constrained search space\"\n",
    "        selected_budget = {}\n",
    "        bounds_values = list(self.bounds.values())\n",
    "        bounds_items = list(self.bounds.items())\n",
    "        for n, (name, bound) in enumerate(bounds_items[:-1]):\n",
    "            curr_total = sum(selected_budget.values())\n",
    "            new_min_bound = self.constraint[0]-(curr_total+sum(b[1] for b in bounds_values[n+1:]))\n",
    "            new_max_bound = self.constraint[1]-(curr_total+sum(b[0] for b in bounds_values[n+1:]))\n",
    "            updated_bounds = (\n",
    "                    max(bound[0], new_min_bound), \n",
    "                    min(bound[1], new_max_bound)\n",
    "            )\n",
    "            selection = trial.suggest_float(name, *updated_bounds)\n",
    "            selected_budget[name] = selection\n",
    "        last = bounds_values[-1]\n",
    "        last_name = bounds_items[-1][0]\n",
    "        choice = trial.suggest_float(\n",
    "            last_name, \n",
    "            max(last[0], self.constraint[0]-sum(selected_budget.values())),\n",
    "            min(last[1], self.constraint[1]-sum(selected_budget.values()))\n",
    "        )\n",
    "        selected_budget[last_name] = choice\n",
    "        return selected_budget"
   ]
  },
  {
   "cell_type": "code",
   "execution_count": null,
   "metadata": {},
   "outputs": [
    {
     "data": {
      "text/markdown": [
       "---\n",
       "\n",
       "### ConstrainedSearchSpace.__call__\n",
       "\n",
       ">      ConstrainedSearchSpace.__call__ (trial:__main__.Trial)\n",
       "\n",
       "*Call self as a function.*"
      ],
      "text/plain": [
       "---\n",
       "\n",
       "### ConstrainedSearchSpace.__call__\n",
       "\n",
       ">      ConstrainedSearchSpace.__call__ (trial:__main__.Trial)\n",
       "\n",
       "*Call self as a function.*"
      ]
     },
     "execution_count": null,
     "metadata": {},
     "output_type": "execute_result"
    }
   ],
   "source": [
    "show_doc(ConstrainedSearchSpace.__call__)"
   ]
  },
  {
   "cell_type": "code",
   "execution_count": null,
   "metadata": {},
   "outputs": [],
   "source": [
    "class TestTrial:\n",
    "    @staticmethod\n",
    "    def suggest_float(name: str, low: float, high: float, **kwargs) -> float:\n",
    "        return np.random.uniform(low, high)"
   ]
  },
  {
   "cell_type": "code",
   "execution_count": null,
   "metadata": {},
   "outputs": [
    {
     "name": "stdout",
     "output_type": "stream",
     "text": [
      "Sample dim_1: 1297.19, Bound dim_1: (1076.5, 1614.74)\n",
      "Sample dim_2: 2059.89, Bound dim_2: (1686.42, 2529.63)\n",
      "Sample dim_4: 5580.39, Bound dim_4: (4561.22, 6841.82)\n",
      "Sample dim_3: 12345.41, Bound dim_3: (8516.67, 12775.01)\n",
      "Sample dim_0: 18288.21, Bound dim_0: (15816.07, 23724.11)\n",
      "Sample Total: 39571.09, Total: 39571.09\n"
     ]
    }
   ],
   "source": [
    "RNG = np.random.default_rng(44)\n",
    "actual_spends = np.exp(RNG.normal(7, 2, 5)) # generate some random spends\n",
    "bounds = {f\"dim_{dim}\": (np.round(.8*spend, 2), np.round(1.2*spend, 2)) for dim, spend in enumerate(actual_spends)} # generate bounds for each spend\n",
    "total_spend = sum(actual_spends) # calculate the total spend\n",
    "constraint = (total_spend, total_spend) # set the constraint to be the total spend\n",
    "trial = TestTrial() # creates a mock trial\n",
    "search_space = ConstrainedSearchSpace(bounds=bounds, constraint=constraint) # create the search space\n",
    "selected_budget = search_space(trial) # get the first sample\n",
    "for name, sample in selected_budget.items(): # iterate over the sample\n",
    "    print(f\"Sample {name}: {sample:.2f}, Bound {name}: {bounds[name]}\") # print the sample and the bound\n",
    "print(f\"Sample Total: {sum(selected_budget.values()):.2f}, Total: {total_spend:.2f}\") # print the total of the sample and the total spend"
   ]
  },
  {
   "cell_type": "code",
   "execution_count": null,
   "metadata": {},
   "outputs": [],
   "source": []
  },
  {
   "cell_type": "code",
   "execution_count": null,
   "metadata": {},
   "outputs": [],
   "source": [
    "#| hide\n",
    "import nbdev; nbdev.nbdev_export()"
   ]
  },
  {
   "cell_type": "markdown",
   "metadata": {},
   "source": []
  }
 ],
 "metadata": {
  "kernelspec": {
   "display_name": "python3",
   "language": "python",
   "name": "python3"
  }
 },
 "nbformat": 4,
 "nbformat_minor": 2
}
