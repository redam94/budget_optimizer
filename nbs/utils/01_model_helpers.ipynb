{
 "cells": [
  {
   "cell_type": "markdown",
   "metadata": {},
   "source": [
    "# Model Helpers\n",
    "\n",
    "> Useful functions/class/types for defining loss functions, metrics, model loading and data augmentation"
   ]
  },
  {
   "cell_type": "code",
   "execution_count": null,
   "metadata": {},
   "outputs": [],
   "source": [
    "#| default_exp utils.model_helpers"
   ]
  },
  {
   "cell_type": "code",
   "execution_count": null,
   "metadata": {},
   "outputs": [],
   "source": [
    "#| hide\n",
    "from nbdev.showdoc import *"
   ]
  },
  {
   "cell_type": "code",
   "execution_count": null,
   "metadata": {},
   "outputs": [],
   "source": [
    "#| export\n",
    "import numpy as np\n",
    "import pandas as pd\n",
    "import matplotlib.pyplot as plt\n",
    "import xarray as xr\n",
    "import yaml\n",
    "\n",
    "import importlib.util as import_utils\n",
    "from pathlib import Path\n",
    "from abc import ABC, abstractmethod\n",
    "from typing import Union, List, Dict"
   ]
  },
  {
   "cell_type": "markdown",
   "metadata": {},
   "source": [
    "## Config Loading"
   ]
  },
  {
   "cell_type": "code",
   "execution_count": null,
   "metadata": {},
   "outputs": [],
   "source": [
    "#| export\n",
    "def load_module(\n",
    "  module_name: str, # The name of the module to load\n",
    "  module_path: Path, # The path to the module\n",
    ") -> object: # The loaded module\n",
    "    \"Load a module from a file path.\"\n",
    "    spec = import_utils.spec_from_file_location(module_name, module_path)\n",
    "    module = import_utils.module_from_spec(spec)\n",
    "    spec.loader.exec_module(module)\n",
    "    return module"
   ]
  },
  {
   "cell_type": "code",
   "execution_count": null,
   "metadata": {},
   "outputs": [],
   "source": [
    "#| export\n",
    "def load_yaml(\n",
    "  file_path: Path, # The path to the YAML file\n",
    ") -> Dict[str, Union[list[str], str]]: # The loaded module\n",
    "    \"Load a module from a file path.\"\n",
    "    spec = import_utils.spec_from_file_location(module_name, module_path)\n",
    "    module = import_utils.module_from_spec(spec)\n",
    "    spec.loader.exec_module(module)\n",
    "    return module"
   ]
  },
  {
   "cell_type": "markdown",
   "metadata": {},
   "source": [
    "## Abstract Classes and Types"
   ]
  },
  {
   "cell_type": "code",
   "execution_count": null,
   "metadata": {},
   "outputs": [],
   "source": [
    "#| export\n",
    "class AbstractModel(ABC):\n",
    "  \"\"\"An abstract class for models\"\"\"\n",
    "  @abstractmethod\n",
    "  def predict(self, x: xr.Dataset) -> xr.Dataset:\n",
    "    pass\n",
    "  \n",
    "  @abstractmethod\n",
    "  def contributions(self, x: xr.Dataset) -> xr.Dataset:\n",
    "    pass\n",
    "  \n",
    "  def __repr__(self) -> str:\n",
    "    return f\"Model\""
   ]
  },
  {
   "cell_type": "code",
   "execution_count": null,
   "metadata": {},
   "outputs": [
    {
     "data": {
      "text/markdown": [
       "---\n",
       "\n",
       "[source](https://github.com/redam94/budget_optimizer/blob/main/budget_optimizer/utils/model_helpers.py#L34){target=\"_blank\" style=\"float:right; font-size:smaller\"}\n",
       "\n",
       "### AbstractModel.predict\n",
       "\n",
       ">      AbstractModel.predict (x:xarray.core.dataset.Dataset)"
      ],
      "text/plain": [
       "---\n",
       "\n",
       "[source](https://github.com/redam94/budget_optimizer/blob/main/budget_optimizer/utils/model_helpers.py#L34){target=\"_blank\" style=\"float:right; font-size:smaller\"}\n",
       "\n",
       "### AbstractModel.predict\n",
       "\n",
       ">      AbstractModel.predict (x:xarray.core.dataset.Dataset)"
      ]
     },
     "execution_count": null,
     "metadata": {},
     "output_type": "execute_result"
    }
   ],
   "source": [
    "show_doc(AbstractModel.predict)"
   ]
  },
  {
   "cell_type": "code",
   "execution_count": null,
   "metadata": {},
   "outputs": [
    {
     "data": {
      "text/markdown": [
       "---\n",
       "\n",
       "[source](https://github.com/redam94/budget_optimizer/blob/main/budget_optimizer/utils/model_helpers.py#L38){target=\"_blank\" style=\"float:right; font-size:smaller\"}\n",
       "\n",
       "### AbstractModel.contributions\n",
       "\n",
       ">      AbstractModel.contributions (x:xarray.core.dataset.Dataset)"
      ],
      "text/plain": [
       "---\n",
       "\n",
       "[source](https://github.com/redam94/budget_optimizer/blob/main/budget_optimizer/utils/model_helpers.py#L38){target=\"_blank\" style=\"float:right; font-size:smaller\"}\n",
       "\n",
       "### AbstractModel.contributions\n",
       "\n",
       ">      AbstractModel.contributions (x:xarray.core.dataset.Dataset)"
      ]
     },
     "execution_count": null,
     "metadata": {},
     "output_type": "execute_result"
    }
   ],
   "source": [
    "show_doc(AbstractModel.contributions)"
   ]
  },
  {
   "cell_type": "code",
   "execution_count": null,
   "metadata": {},
   "outputs": [],
   "source": [
    "#| export\n",
    "BudgetType = Union[Dict[str, float], xr.Dataset] # type alias for budget data"
   ]
  },
  {
   "cell_type": "code",
   "execution_count": null,
   "metadata": {},
   "outputs": [],
   "source": [
    "#| hide\n",
    "import nbdev; nbdev.nbdev_export()"
   ]
  },
  {
   "cell_type": "markdown",
   "metadata": {},
   "source": []
  },
  {
   "cell_type": "markdown",
   "metadata": {},
   "source": []
  }
 ],
 "metadata": {
  "kernelspec": {
   "display_name": "python3",
   "language": "python",
   "name": "python3"
  }
 },
 "nbformat": 4,
 "nbformat_minor": 2
}
