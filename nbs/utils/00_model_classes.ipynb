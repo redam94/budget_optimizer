{
 "cells": [
  {
   "cell_type": "markdown",
   "metadata": {},
   "source": [
    "# Model Classes\n",
    "\n",
    "> Model classes"
   ]
  },
  {
   "cell_type": "code",
   "execution_count": null,
   "metadata": {},
   "outputs": [],
   "source": [
    "#| default_exp utils.model_classes"
   ]
  },
  {
   "cell_type": "code",
   "execution_count": null,
   "metadata": {},
   "outputs": [],
   "source": [
    "#| hide\n",
    "from nbdev.showdoc import *"
   ]
  },
  {
   "cell_type": "code",
   "execution_count": null,
   "metadata": {},
   "outputs": [],
   "source": [
    "#| export\n",
    "from abc import ABC, abstractmethod\n",
    "from pathlib import Path\n",
    "from collections.abc import Sequence\n",
    "from typing import Callable, Generic, TypeVar, Union, Protocol\n",
    "import xarray as xr"
   ]
  },
  {
   "cell_type": "code",
   "execution_count": null,
   "metadata": {},
   "outputs": [],
   "source": [
    "#| export\n",
    "class _Model(Protocol):\n",
    "  @abstractmethod\n",
    "  def predict(self, x: xr.Dataset) -> xr.Dataset:\n",
    "    pass\n",
    "  \n",
    "  @abstractmethod\n",
    "  def contributions(self, x: xr.Dataset) -> xr.Dataset:\n",
    "    pass"
   ]
  },
  {
   "cell_type": "code",
   "execution_count": null,
   "metadata": {},
   "outputs": [],
   "source": [
    "#| export\n",
    "class BaseModel(ABC):\n",
    "    \"\"\"\n",
    "    Abstract class for all models\n",
    "    \"\"\"\n",
    "    @abstractmethod\n",
    "    def __init__(\n",
    "      self, \n",
    "      model_name: str, # Name used to identify the model\n",
    "      model_kpi: str, # Key performance indicator output by the model predict\n",
    "      model_path: str|Path, # Path to the model artifact\n",
    "      model_loader: Callable[str|Path, _Model], # Function to load the model\n",
    "      ):\n",
    "        self.model_name: str = model_name\n",
    "        self.model_kpi: str = model_kpi\n",
    "        self.model_type: str = model_type\n",
    "        self.model_path: Path = model_path if isinstance(model_path, Path) else Path(model_path)\n",
    "        self._model = model_loader(model_path)\n",
    "\n",
    "    @abstractmethod\n",
    "    def predict(\n",
    "        self, \n",
    "        x: xr.Dataset # Input data\n",
    "        ) -> xr.Dataset: # Predicted target variable\n",
    "        \"\"\"\n",
    "        Predict the target variable from the input data\n",
    "        \"\"\"\n",
    "        pass\n",
    "    \n",
    "    @abstractmethod\n",
    "    def contributions(\n",
    "        self, \n",
    "        x: xr.Dataset # Input data\n",
    "        ) -> xr.Dataset: # Contributions of the input data to the target variable\n",
    "        \"\"\"\n",
    "        Get the contributions of the input data to the target variable\n",
    "        \"\"\"\n",
    "        pass"
   ]
  },
  {
   "cell_type": "code",
   "execution_count": null,
   "metadata": {},
   "outputs": [
    {
     "data": {
      "text/markdown": [
       "---\n",
       "\n",
       "### BaseModel.predict\n",
       "\n",
       ">      BaseModel.predict (x:xarray.core.dataset.Dataset)\n",
       "\n",
       "*Predict the target variable from the input data*\n",
       "\n",
       "|    | **Type** | **Details** |\n",
       "| -- | -------- | ----------- |\n",
       "| x | Dataset | Input data |\n",
       "| **Returns** | **Dataset** | **Predicted target variable** |"
      ],
      "text/plain": [
       "---\n",
       "\n",
       "### BaseModel.predict\n",
       "\n",
       ">      BaseModel.predict (x:xarray.core.dataset.Dataset)\n",
       "\n",
       "*Predict the target variable from the input data*\n",
       "\n",
       "|    | **Type** | **Details** |\n",
       "| -- | -------- | ----------- |\n",
       "| x | Dataset | Input data |\n",
       "| **Returns** | **Dataset** | **Predicted target variable** |"
      ]
     },
     "execution_count": null,
     "metadata": {},
     "output_type": "execute_result"
    }
   ],
   "source": [
    "show_doc(BaseModel.predict)"
   ]
  },
  {
   "cell_type": "code",
   "execution_count": null,
   "metadata": {},
   "outputs": [
    {
     "data": {
      "text/markdown": [
       "---\n",
       "\n",
       "### BaseModel.contributions\n",
       "\n",
       ">      BaseModel.contributions (x:xarray.core.dataset.Dataset)\n",
       "\n",
       "*Get the contributions of the input data to the target variable*\n",
       "\n",
       "|    | **Type** | **Details** |\n",
       "| -- | -------- | ----------- |\n",
       "| x | Dataset | Input data |\n",
       "| **Returns** | **Dataset** | **Contributions of the input data to the target variable** |"
      ],
      "text/plain": [
       "---\n",
       "\n",
       "### BaseModel.contributions\n",
       "\n",
       ">      BaseModel.contributions (x:xarray.core.dataset.Dataset)\n",
       "\n",
       "*Get the contributions of the input data to the target variable*\n",
       "\n",
       "|    | **Type** | **Details** |\n",
       "| -- | -------- | ----------- |\n",
       "| x | Dataset | Input data |\n",
       "| **Returns** | **Dataset** | **Contributions of the input data to the target variable** |"
      ]
     },
     "execution_count": null,
     "metadata": {},
     "output_type": "execute_result"
    }
   ],
   "source": [
    "show_doc(BaseModel.contributions)"
   ]
  },
  {
   "cell_type": "code",
   "execution_count": null,
   "metadata": {},
   "outputs": [],
   "source": [
    "#| hide\n",
    "import nbdev; nbdev.nbdev_export()"
   ]
  },
  {
   "cell_type": "code",
   "execution_count": null,
   "metadata": {},
   "outputs": [],
   "source": []
  }
 ],
 "metadata": {
  "kernelspec": {
   "display_name": "python3",
   "language": "python",
   "name": "python3"
  }
 },
 "nbformat": 4,
 "nbformat_minor": 2
}
